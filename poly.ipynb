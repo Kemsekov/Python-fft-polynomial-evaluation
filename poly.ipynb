{
 "cells": [
  {
   "cell_type": "markdown",
   "metadata": {},
   "source": [
    "# Code"
   ]
  },
  {
   "cell_type": "code",
   "execution_count": 13,
   "metadata": {},
   "outputs": [],
   "source": [
    "import numpy as np\n",
    "import numba\n",
    "from matplotlib import pyplot as plt"
   ]
  },
  {
   "cell_type": "markdown",
   "metadata": {},
   "source": [
    "Numba-jitted functions to work with polynomials"
   ]
  },
  {
   "cell_type": "code",
   "execution_count": 14,
   "metadata": {},
   "outputs": [],
   "source": [
    "@numba.njit(cache=True)\n",
    "def identity_separator(x):\n",
    "    return np.array([0,len(x),1])\n",
    "\n",
    "@numba.njit(cache=True)\n",
    "def separator_size(separator):\n",
    "    return int(np.ceil((separator[1]-separator[0])/separator[2]))\n",
    "\n",
    "@numba.njit(cache=True,parallel=True)\n",
    "def get_terms_from_separator(coefs, separator):\n",
    "    start = separator[0]\n",
    "    end = separator[1]\n",
    "    step = separator[2]\n",
    "    return coefs[np.arange(start,end,step)]\n",
    "\n",
    "@numba.njit(cache=True)\n",
    "def get_even_separator(coefs):\n",
    "    return np.array([0,len(coefs),2])\n",
    "\n",
    "@numba.njit(cache=True)\n",
    "def get_odd_separator(coefs):\n",
    "    return np.array([1,len(coefs),2])\n",
    "\n",
    "@numba.njit(cache=True)\n",
    "def even_separator(separator):\n",
    "    return np.array([separator[0],separator[1],separator[2]*2])\n",
    "\n",
    "@numba.njit(cache=True)\n",
    "def odd_separator(separator):\n",
    "    return np.array([separator[0]+separator[2],separator[1],separator[2]*2])\n",
    "\n",
    "@numba.njit(cache=True,fastmath=True,parallel=True)\n",
    "def evaluate_polynomial(coefs,x):\n",
    "    y = np.zeros(x.shape, dtype=float)\n",
    "    coefs_len = len(coefs)-1\n",
    "    for i in range(len(coefs)):\n",
    "        y *= x\n",
    "        y += coefs[coefs_len-i]\n",
    "    return y\n",
    "\n",
    "@numba.njit(cache=True)\n",
    "def evaluate_polynomial_fft(coefs,x):\n",
    "    return __evaluate_polynomial_fft(coefs,x,identity_separator(coefs))\n",
    "\n",
    "@numba.njit(cache=True,fastmath=True, parallel=True)\n",
    "def __evaluate_polynomial_fft(coefs,x,separator):\n",
    "    # use upper-bound on recursion, to use base polynomial evaluation\n",
    "    # this value is found by hands\n",
    "    if separator_size(separator)<=1024: \n",
    "        separated_coefs = get_terms_from_separator(coefs,separator)\n",
    "        return evaluate_polynomial(separated_coefs,x)\n",
    "    evens = even_separator(separator)\n",
    "    odds = odd_separator(separator)\n",
    "    x2 = x*x\n",
    "    # these two could be forked\n",
    "    even_sum = __evaluate_polynomial_fft(coefs,x2,evens)\n",
    "    odd_sum  = x*__evaluate_polynomial_fft(coefs,x2,odds)\n",
    "    return even_sum+odd_sum\n",
    "\n",
    "@numba.njit(cache=True,fastmath=True)\n",
    "def get_even_terms(coefs):\n",
    "    evens = np.arange((len(coefs)+1)//2)*2\n",
    "    return coefs[evens]\n",
    "\n",
    "@numba.njit(cache=True,fastmath=True)\n",
    "def get_odd_terms(coefs):\n",
    "    odds = np.arange(len(coefs)//2)*2+1\n",
    "    return coefs[odds]"
   ]
  },
  {
   "cell_type": "code",
   "execution_count": 15,
   "metadata": {},
   "outputs": [],
   "source": [
    "class Polynomial:\n",
    "    def __init__(self, coefficients) -> None:\n",
    "        self.coefficients=coefficients\n",
    "\n",
    "    def evaluate(self,x):\n",
    "        return evaluate_polynomial(self.coefficients,x)\n",
    "    \n",
    "    def evaluate_fft(self,x):\n",
    "        return evaluate_polynomial_fft(self.coefficients,x)\n",
    "    "
   ]
  },
  {
   "cell_type": "markdown",
   "metadata": {},
   "source": [
    "Showcase of how used separators objects are working.\n",
    "They used to split data on even and odd indices with deep hierarchy, so if we need to get elements of array with even indices and then get elements with odd indices, we can use three numbers (start,end,step) to describe such behavior.\n",
    "\n",
    "This division is used for fft-based approach for evaluating polynomial"
   ]
  },
  {
   "cell_type": "code",
   "execution_count": 16,
   "metadata": {},
   "outputs": [
    {
     "name": "stdout",
     "output_type": "stream",
     "text": [
      "orig\t\t [ 0  1  2  3  4  5  6  7  8  9 10 11 12 13 14 15 16]\n",
      "even\t\t [ 0  2  4  6  8 10 12 14 16]\n",
      "even_even\t [ 0  4  8 12 16]\n",
      "even_odd\t [ 2  6 10 14]\n",
      "odd\t\t [ 1  3  5  7  9 11 13 15]\n",
      "odd_even\t [ 1  5  9 13]\n",
      "odd_odd\t\t [ 3  7 11 15]\n",
      "even_even_odd\t [ 4 12]\n",
      "odd_even_odd\t [ 5 13]\n",
      "even_odd_even\t [ 2 10]\n"
     ]
    }
   ],
   "source": [
    "a = np.array([0,1,2,3,4,5,6,7,8,9,10,11,12,13,14,15,16])\n",
    "\n",
    "even = get_even_terms(a)\n",
    "odd = get_odd_terms(a)\n",
    "\n",
    "even_even = get_even_terms(even)\n",
    "even_odd = get_odd_terms(even)\n",
    "odd_even = get_even_terms(odd)\n",
    "odd_odd = get_odd_terms(odd)\n",
    "\n",
    "even_even_odd = get_odd_terms(even_even)\n",
    "odd_even_odd = get_odd_terms(odd_even)\n",
    "even_odd_even = get_even_terms(even_odd)\n",
    "\n",
    "print(\"orig\\t\\t\",a)\n",
    "print(\"even\\t\\t\",even)\n",
    "print(\"even_even\\t\",even_even)\n",
    "print(\"even_odd\\t\",even_odd)\n",
    "\n",
    "print(\"odd\\t\\t\",odd)\n",
    "print(\"odd_even\\t\",odd_even)\n",
    "print(\"odd_odd\\t\\t\",odd_odd)\n",
    "\n",
    "print(\"even_even_odd\\t\",even_even_odd)\n",
    "print(\"odd_even_odd\\t\",odd_even_odd)\n",
    "print(\"even_odd_even\\t\",even_odd_even)"
   ]
  },
  {
   "cell_type": "code",
   "execution_count": 17,
   "metadata": {},
   "outputs": [
    {
     "name": "stdout",
     "output_type": "stream",
     "text": [
      "identity\t [ 0  1  2  3  4  5  6  7  8  9 10 11 12 13 14 15 16]\n",
      "even\t\t [ 0  2  4  6  8 10 12 14 16]\n",
      "even_even\t [ 0  4  8 12 16]\n",
      "even_odd\t [ 2  6 10 14]\n",
      "odd\t\t [ 1  3  5  7  9 11 13 15]\n",
      "odd_even\t [ 1  5  9 13]\n",
      "odd_odd\t\t [ 3  7 11 15]\n",
      "even_even_odd\t [ 4 12]\n",
      "odd_even_odd\t [ 5 13]\n",
      "even_odd_even\t [ 2 10]\n"
     ]
    },
    {
     "data": {
      "text/plain": [
       "17"
      ]
     },
     "execution_count": 17,
     "metadata": {},
     "output_type": "execute_result"
    }
   ],
   "source": [
    "a = np.array([0,1,2,3,4,5,6,7,8,9,10,11,12,13,14,15,16])\n",
    "\n",
    "identity = identity_separator(a)\n",
    "even = even_separator(identity)\n",
    "odd = odd_separator(identity)\n",
    "\n",
    "even_even = even_separator(even)\n",
    "even_odd = odd_separator(even)\n",
    "odd_even = even_separator(odd)\n",
    "odd_odd = odd_separator(odd)\n",
    "\n",
    "even_even_odd = odd_separator(even_even)\n",
    "odd_even_odd = odd_separator(odd_even)\n",
    "even_odd_even = even_separator(even_odd)\n",
    "\n",
    "print(\"identity\\t\",get_terms_from_separator(a,identity))\n",
    "print(\"even\\t\\t\",get_terms_from_separator(a,even))\n",
    "print(\"even_even\\t\",get_terms_from_separator(a,even_even))\n",
    "print(\"even_odd\\t\",get_terms_from_separator(a,even_odd))\n",
    "\n",
    "print(\"odd\\t\\t\",get_terms_from_separator(a,odd))\n",
    "print(\"odd_even\\t\",get_terms_from_separator(a,odd_even))\n",
    "print(\"odd_odd\\t\\t\",get_terms_from_separator(a,odd_odd))\n",
    "\n",
    "print(\"even_even_odd\\t\",get_terms_from_separator(a,even_even_odd))\n",
    "print(\"odd_even_odd\\t\",get_terms_from_separator(a,odd_even_odd))\n",
    "print(\"even_odd_even\\t\",get_terms_from_separator(a,even_odd_even))\n",
    "\n",
    "separator_size(identity)"
   ]
  },
  {
   "cell_type": "markdown",
   "metadata": {},
   "source": [
    "# Showcase"
   ]
  },
  {
   "cell_type": "code",
   "execution_count": 23,
   "metadata": {},
   "outputs": [],
   "source": [
    "x = np.linspace(-1,1,100000)\n",
    "coefs = np.random.normal(0,1,90000)\n",
    "pol = Polynomial(coefs)"
   ]
  },
  {
   "cell_type": "code",
   "execution_count": 24,
   "metadata": {},
   "outputs": [],
   "source": [
    "y1=pol.evaluate(x)"
   ]
  },
  {
   "cell_type": "code",
   "execution_count": 25,
   "metadata": {},
   "outputs": [],
   "source": [
    "y2=pol.evaluate_fft(x)"
   ]
  },
  {
   "cell_type": "code",
   "execution_count": 26,
   "metadata": {},
   "outputs": [],
   "source": []
  },
  {
   "cell_type": "code",
   "execution_count": 27,
   "metadata": {},
   "outputs": [
    {
     "name": "stdout",
     "output_type": "stream",
     "text": [
      "9.109868415180244e-11\n",
      "9.109868415180244e-11\n"
     ]
    }
   ],
   "source": [
    "print(np.max(np.abs(y1-y2)))\n",
    "print(np.max(np.abs(y2-y3)))"
   ]
  }
 ],
 "metadata": {
  "kernelspec": {
   "display_name": "venv",
   "language": "python",
   "name": "python3"
  },
  "language_info": {
   "codemirror_mode": {
    "name": "ipython",
    "version": 3
   },
   "file_extension": ".py",
   "mimetype": "text/x-python",
   "name": "python",
   "nbconvert_exporter": "python",
   "pygments_lexer": "ipython3",
   "version": "3.12.4"
  }
 },
 "nbformat": 4,
 "nbformat_minor": 2
}
